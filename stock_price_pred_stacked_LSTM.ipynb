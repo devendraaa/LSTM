{
  "nbformat": 4,
  "nbformat_minor": 0,
  "metadata": {
    "colab": {
      "name": "stock_price_pred_stacked_LSTM.ipynb",
      "provenance": [],
      "collapsed_sections": []
    },
    "kernelspec": {
      "name": "python3",
      "display_name": "Python 3"
    },
    "accelerator": "GPU"
  },
  "cells": [
    {
      "cell_type": "code",
      "metadata": {
        "id": "ziWHq5TYR07N"
      },
      "source": [
        "import pandas_datareader as pdr\n",
        "import pandas as pd"
      ],
      "execution_count": null,
      "outputs": []
    },
    {
      "cell_type": "code",
      "metadata": {
        "id": "SM4_HuZuSAdM"
      },
      "source": [
        "df = pdr.get_data_tiingo('AAPL', api_key='4c260f4e2eb83b092ac0c2d2f109c284d4706dae')\n",
        "df.to_csv('AAPL.csv')"
      ],
      "execution_count": null,
      "outputs": []
    },
    {
      "cell_type": "code",
      "metadata": {
        "id": "nLIy7h6gSdRo"
      },
      "source": [
        "df = pd.read_csv('/content/AAPL.csv')"
      ],
      "execution_count": null,
      "outputs": []
    },
    {
      "cell_type": "code",
      "metadata": {
        "id": "aJjOkER3Sw3S",
        "colab": {
          "base_uri": "https://localhost:8080/",
          "height": 285
        },
        "outputId": "7a6f9980-19b7-4547-ac9c-05fc54a5368e"
      },
      "source": [
        "df.head()"
      ],
      "execution_count": null,
      "outputs": [
        {
          "output_type": "execute_result",
          "data": {
            "text/html": [
              "<div>\n",
              "<style scoped>\n",
              "    .dataframe tbody tr th:only-of-type {\n",
              "        vertical-align: middle;\n",
              "    }\n",
              "\n",
              "    .dataframe tbody tr th {\n",
              "        vertical-align: top;\n",
              "    }\n",
              "\n",
              "    .dataframe thead th {\n",
              "        text-align: right;\n",
              "    }\n",
              "</style>\n",
              "<table border=\"1\" class=\"dataframe\">\n",
              "  <thead>\n",
              "    <tr style=\"text-align: right;\">\n",
              "      <th></th>\n",
              "      <th>symbol</th>\n",
              "      <th>date</th>\n",
              "      <th>close</th>\n",
              "      <th>high</th>\n",
              "      <th>low</th>\n",
              "      <th>open</th>\n",
              "      <th>volume</th>\n",
              "      <th>adjClose</th>\n",
              "      <th>adjHigh</th>\n",
              "      <th>adjLow</th>\n",
              "      <th>adjOpen</th>\n",
              "      <th>adjVolume</th>\n",
              "      <th>divCash</th>\n",
              "      <th>splitFactor</th>\n",
              "    </tr>\n",
              "  </thead>\n",
              "  <tbody>\n",
              "    <tr>\n",
              "      <th>0</th>\n",
              "      <td>AAPL</td>\n",
              "      <td>2015-10-12 00:00:00+00:00</td>\n",
              "      <td>111.60</td>\n",
              "      <td>112.75</td>\n",
              "      <td>111.44</td>\n",
              "      <td>112.73</td>\n",
              "      <td>30467204</td>\n",
              "      <td>25.779066</td>\n",
              "      <td>26.044711</td>\n",
              "      <td>25.742107</td>\n",
              "      <td>26.040091</td>\n",
              "      <td>121868816</td>\n",
              "      <td>0.0</td>\n",
              "      <td>1.0</td>\n",
              "    </tr>\n",
              "    <tr>\n",
              "      <th>1</th>\n",
              "      <td>AAPL</td>\n",
              "      <td>2015-10-13 00:00:00+00:00</td>\n",
              "      <td>111.79</td>\n",
              "      <td>112.45</td>\n",
              "      <td>110.68</td>\n",
              "      <td>110.82</td>\n",
              "      <td>33049256</td>\n",
              "      <td>25.822955</td>\n",
              "      <td>25.975412</td>\n",
              "      <td>25.566550</td>\n",
              "      <td>25.598890</td>\n",
              "      <td>132197024</td>\n",
              "      <td>0.0</td>\n",
              "      <td>1.0</td>\n",
              "    </tr>\n",
              "    <tr>\n",
              "      <th>2</th>\n",
              "      <td>AAPL</td>\n",
              "      <td>2015-10-14 00:00:00+00:00</td>\n",
              "      <td>110.21</td>\n",
              "      <td>111.52</td>\n",
              "      <td>109.56</td>\n",
              "      <td>111.29</td>\n",
              "      <td>44462449</td>\n",
              "      <td>25.457983</td>\n",
              "      <td>25.760586</td>\n",
              "      <td>25.307836</td>\n",
              "      <td>25.707458</td>\n",
              "      <td>177849796</td>\n",
              "      <td>0.0</td>\n",
              "      <td>1.0</td>\n",
              "    </tr>\n",
              "    <tr>\n",
              "      <th>3</th>\n",
              "      <td>AAPL</td>\n",
              "      <td>2015-10-15 00:00:00+00:00</td>\n",
              "      <td>111.86</td>\n",
              "      <td>112.10</td>\n",
              "      <td>110.49</td>\n",
              "      <td>110.93</td>\n",
              "      <td>37673452</td>\n",
              "      <td>25.839125</td>\n",
              "      <td>25.894564</td>\n",
              "      <td>25.522661</td>\n",
              "      <td>25.624299</td>\n",
              "      <td>150693808</td>\n",
              "      <td>0.0</td>\n",
              "      <td>1.0</td>\n",
              "    </tr>\n",
              "    <tr>\n",
              "      <th>4</th>\n",
              "      <td>AAPL</td>\n",
              "      <td>2015-10-16 00:00:00+00:00</td>\n",
              "      <td>111.04</td>\n",
              "      <td>112.00</td>\n",
              "      <td>110.53</td>\n",
              "      <td>111.78</td>\n",
              "      <td>39232609</td>\n",
              "      <td>25.649709</td>\n",
              "      <td>25.871464</td>\n",
              "      <td>25.531901</td>\n",
              "      <td>25.820645</td>\n",
              "      <td>156930436</td>\n",
              "      <td>0.0</td>\n",
              "      <td>1.0</td>\n",
              "    </tr>\n",
              "  </tbody>\n",
              "</table>\n",
              "</div>"
            ],
            "text/plain": [
              "  symbol                       date   close  ...  adjVolume  divCash  splitFactor\n",
              "0   AAPL  2015-10-12 00:00:00+00:00  111.60  ...  121868816      0.0          1.0\n",
              "1   AAPL  2015-10-13 00:00:00+00:00  111.79  ...  132197024      0.0          1.0\n",
              "2   AAPL  2015-10-14 00:00:00+00:00  110.21  ...  177849796      0.0          1.0\n",
              "3   AAPL  2015-10-15 00:00:00+00:00  111.86  ...  150693808      0.0          1.0\n",
              "4   AAPL  2015-10-16 00:00:00+00:00  111.04  ...  156930436      0.0          1.0\n",
              "\n",
              "[5 rows x 14 columns]"
            ]
          },
          "metadata": {
            "tags": []
          },
          "execution_count": 4
        }
      ]
    },
    {
      "cell_type": "code",
      "metadata": {
        "id": "2YAO5wqwSx8u",
        "colab": {
          "base_uri": "https://localhost:8080/",
          "height": 35
        },
        "outputId": "644c6932-c3e0-4667-d672-7f93810a95ff"
      },
      "source": [
        "df.shape"
      ],
      "execution_count": null,
      "outputs": [
        {
          "output_type": "execute_result",
          "data": {
            "text/plain": [
              "(1258, 14)"
            ]
          },
          "metadata": {
            "tags": []
          },
          "execution_count": 5
        }
      ]
    },
    {
      "cell_type": "code",
      "metadata": {
        "id": "SplXp0G0S04t"
      },
      "source": [
        "df1 = df.reset_index()['close']"
      ],
      "execution_count": null,
      "outputs": []
    },
    {
      "cell_type": "code",
      "metadata": {
        "id": "M0FDQXB4UKIA",
        "colab": {
          "base_uri": "https://localhost:8080/",
          "height": 235
        },
        "outputId": "2ecedc0c-812f-422e-ccc5-24c78f033508"
      },
      "source": [
        "df1"
      ],
      "execution_count": null,
      "outputs": [
        {
          "output_type": "execute_result",
          "data": {
            "text/plain": [
              "0       111.60\n",
              "1       111.79\n",
              "2       110.21\n",
              "3       111.86\n",
              "4       111.04\n",
              "         ...  \n",
              "1253    113.02\n",
              "1254    116.50\n",
              "1255    113.16\n",
              "1256    115.08\n",
              "1257    114.97\n",
              "Name: close, Length: 1258, dtype: float64"
            ]
          },
          "metadata": {
            "tags": []
          },
          "execution_count": 33
        }
      ]
    },
    {
      "cell_type": "code",
      "metadata": {
        "id": "iNDi0QWVULEh",
        "colab": {
          "base_uri": "https://localhost:8080/",
          "height": 35
        },
        "outputId": "e7f9b90c-b289-4770-86b1-db96c14b9d62"
      },
      "source": [
        "df1.shape"
      ],
      "execution_count": null,
      "outputs": [
        {
          "output_type": "execute_result",
          "data": {
            "text/plain": [
              "(1258,)"
            ]
          },
          "metadata": {
            "tags": []
          },
          "execution_count": 34
        }
      ]
    },
    {
      "cell_type": "code",
      "metadata": {
        "id": "LlgDkd51USx2",
        "colab": {
          "base_uri": "https://localhost:8080/",
          "height": 283
        },
        "outputId": "fd44a533-9072-4932-b808-b51e7e36fe8c"
      },
      "source": [
        "import matplotlib.pyplot as plt\n",
        "plt.plot(df1)"
      ],
      "execution_count": null,
      "outputs": [
        {
          "output_type": "execute_result",
          "data": {
            "text/plain": [
              "[<matplotlib.lines.Line2D at 0x7f248c8505f8>]"
            ]
          },
          "metadata": {
            "tags": []
          },
          "execution_count": 35
        },
        {
          "output_type": "display_data",
          "data": {
            "image/png": "[encoded data removed]",
            "text/plain": [
              "<Figure size 432x288 with 1 Axes>"
            ]
          },
          "metadata": {
            "tags": [],
            "needs_background": "light"
          }
        }
      ]
    },
    {
      "cell_type": "code",
      "metadata": {
        "id": "Ov1nGcDRUdbi"
      },
      "source": [
        "## LSTM is very sensitive to the scale of data,so we can apply min-max scaler\n",
        "import numpy as np\n",
        "from sklearn.preprocessing import MinMaxScaler\n",
        "scaler = MinMaxScaler(feature_range=(0,1))\n",
        "df1 = scaler.fit_transform(np.array(df1).reshape(-1,1))"
      ],
      "execution_count": null,
      "outputs": []
    },
    {
      "cell_type": "code",
      "metadata": {
        "id": "bbMWNTxVVBbi",
        "colab": {
          "base_uri": "https://localhost:8080/",
          "height": 35
        },
        "outputId": "b48dcfee-b48f-41ff-c0fb-e5b4b405e426"
      },
      "source": [
        "df1.shape"
      ],
      "execution_count": null,
      "outputs": [
        {
          "output_type": "execute_result",
          "data": {
            "text/plain": [
              "(1258, 1)"
            ]
          },
          "metadata": {
            "tags": []
          },
          "execution_count": 37
        }
      ]
    },
    {
      "cell_type": "code",
      "metadata": {
        "id": "ASh_rt4G6Lw0"
      },
      "source": [
        "#splltting dataset\n",
        "training_size = int(len(df1)*0.65)\n",
        "test_size = len(df1) - training_size\n",
        "train_set, test_set = df1[0:training_size,:], df1[training_size:len(df1),:1]"
      ],
      "execution_count": null,
      "outputs": []
    },
    {
      "cell_type": "code",
      "metadata": {
        "id": "wCCpdLHu6nL2",
        "colab": {
          "base_uri": "https://localhost:8080/",
          "height": 35
        },
        "outputId": "62a4714c-ab7e-49ac-c000-c3ce4eabf9e0"
      },
      "source": [
        "training_size, test_set.shape"
      ],
      "execution_count": null,
      "outputs": [
        {
          "output_type": "execute_result",
          "data": {
            "text/plain": [
              "(817, (441, 1))"
            ]
          },
          "metadata": {
            "tags": []
          },
          "execution_count": 39
        }
      ]
    },
    {
      "cell_type": "code",
      "metadata": {
        "id": "S3qo0rB67dzC"
      },
      "source": [
        ""
      ],
      "execution_count": null,
      "outputs": []
    },
    {
      "cell_type": "code",
      "metadata": {
        "id": "Cx7s-ZIGVP5z"
      },
      "source": [
        "# convert a array into dataset metrix\n",
        "import numpy as np\n",
        "\n",
        "def create_dataset(dataset, time_step = 1):\n",
        "  datax, datay = [], []\n",
        "  for i in range(len(dataset)-time_step-1):\n",
        "    a = dataset[i:(i+time_step),0]\n",
        "    datax.append(a)\n",
        "    datay.append(dataset[i+time_step, 0])\n",
        "  return np.array(datax), np.array(datay)\n"
      ],
      "execution_count": null,
      "outputs": []
    },
    {
      "cell_type": "code",
      "metadata": {
        "id": "CjO-Ckic5Vog"
      },
      "source": [
        "time_stamp = 100\n",
        "x_train, y_train = create_dataset(train_set, time_stamp)\n",
        "x_test, y_test = create_dataset(test_set, time_stamp)\n"
      ],
      "execution_count": null,
      "outputs": []
    },
    {
      "cell_type": "code",
      "metadata": {
        "id": "TYSmCl5l5gIQ",
        "colab": {
          "base_uri": "https://localhost:8080/",
          "height": 35
        },
        "outputId": "f5311f68-b6cf-4173-db49-642a85503b35"
      },
      "source": [
        "x_train.shape, y_train.shape, x_test.shape, y_test.shape"
      ],
      "execution_count": null,
      "outputs": [
        {
          "output_type": "execute_result",
          "data": {
            "text/plain": [
              "((716, 100), (716,), (340, 100), (340,))"
            ]
          },
          "metadata": {
            "tags": []
          },
          "execution_count": 57
        }
      ]
    },
    {
      "cell_type": "code",
      "metadata": {
        "id": "ZN3zx2Qg5qtM"
      },
      "source": [
        "#reshape input to be [sample,time stamp, features] which is required for lstm\n",
        "x_train = x_train.reshape(x_train.shape[0], x_train.shape[1],1)\n",
        "x_test = x_test.reshape(x_test.shape[0], x_test.shape[1], 1)"
      ],
      "execution_count": null,
      "outputs": []
    },
    {
      "cell_type": "code",
      "metadata": {
        "id": "00GYCNCj7uWO"
      },
      "source": [
        "## creating LSTM Model\n",
        "from tensorflow.keras.models import Sequential\n",
        "from tensorflow.keras.layers import Dense\n",
        "from tensorflow.keras.layers import LSTM"
      ],
      "execution_count": null,
      "outputs": []
    },
    {
      "cell_type": "code",
      "metadata": {
        "id": "cndsc6sq9EE8"
      },
      "source": [
        "model = Sequential()\n",
        "model.add(LSTM(50, return_sequences=True, input_shape=(100,1)))\n",
        "model.add(LSTM(50, return_sequences=True))\n",
        "model.add(LSTM(50))\n",
        "model.add(Dense(1))\n",
        "model.compile(loss='mean_squared_error', optimizer='adam')"
      ],
      "execution_count": null,
      "outputs": []
    },
    {
      "cell_type": "code",
      "metadata": {
        "id": "wDZau4gZ99nM",
        "colab": {
          "base_uri": "https://localhost:8080/",
          "height": 308
        },
        "outputId": "9d6c9b39-a2bf-4ecc-bc73-9f718e8f0086"
      },
      "source": [
        "model.summary()"
      ],
      "execution_count": null,
      "outputs": [
        {
          "output_type": "stream",
          "text": [
            "Model: \"sequential_1\"\n",
            "_________________________________________________________________\n",
            "Layer (type)                 Output Shape              Param #   \n",
            "=================================================================\n",
            "lstm_3 (LSTM)                (None, 100, 50)           10400     \n",
            "_________________________________________________________________\n",
            "lstm_4 (LSTM)                (None, 100, 50)           20200     \n",
            "_________________________________________________________________\n",
            "lstm_5 (LSTM)                (None, 50)                20200     \n",
            "_________________________________________________________________\n",
            "dense_1 (Dense)              (None, 1)                 51        \n",
            "=================================================================\n",
            "Total params: 50,851\n",
            "Trainable params: 50,851\n",
            "Non-trainable params: 0\n",
            "_________________________________________________________________\n"
          ],
          "name": "stdout"
        }
      ]
    },
    {
      "cell_type": "code",
      "metadata": {
        "id": "ORb65wd89__c",
        "colab": {
          "base_uri": "https://localhost:8080/",
          "height": 1000
        },
        "outputId": "59574b96-0413-4352-8fa6-c70b18d09235"
      },
      "source": [
        "model.fit(x_train, y_train, validation_data=(x_test, y_test), epochs=100, batch_size=64, verbose=1)"
      ],
      "execution_count": null,
      "outputs": [
        {
          "output_type": "stream",
          "text": [
            "Epoch 1/100\n",
            "12/12 [==============================] - 1s 96ms/step - loss: 0.0089 - val_loss: 0.0587\n",
            "Epoch 2/100\n",
            "12/12 [==============================] - 0s 20ms/step - loss: 0.0019 - val_loss: 0.0221\n",
            "Epoch 3/100\n",
            "12/12 [==============================] - 0s 18ms/step - loss: 5.6632e-04 - val_loss: 0.0244\n",
            "Epoch 4/100\n",
            "12/12 [==============================] - 0s 17ms/step - loss: 4.1832e-04 - val_loss: 0.0210\n",
            "Epoch 5/100\n",
            "12/12 [==============================] - 0s 17ms/step - loss: 3.7372e-04 - val_loss: 0.0203\n",
            "Epoch 6/100\n",
            "12/12 [==============================] - 0s 18ms/step - loss: 3.4871e-04 - val_loss: 0.0199\n",
            "Epoch 7/100\n",
            "12/12 [==============================] - 0s 17ms/step - loss: 3.3946e-04 - val_loss: 0.0195\n",
            "Epoch 8/100\n",
            "12/12 [==============================] - 0s 17ms/step - loss: 3.3781e-04 - val_loss: 0.0191\n",
            "Epoch 9/100\n",
            "12/12 [==============================] - 0s 16ms/step - loss: 3.3120e-04 - val_loss: 0.0184\n",
            "Epoch 10/100\n",
            "12/12 [==============================] - 0s 17ms/step - loss: 3.0754e-04 - val_loss: 0.0182\n",
            "Epoch 11/100\n",
            "12/12 [==============================] - 0s 18ms/step - loss: 2.9831e-04 - val_loss: 0.0174\n",
            "Epoch 12/100\n",
            "12/12 [==============================] - 0s 17ms/step - loss: 2.8582e-04 - val_loss: 0.0171\n",
            "Epoch 13/100\n",
            "12/12 [==============================] - 0s 17ms/step - loss: 2.8205e-04 - val_loss: 0.0163\n",
            "Epoch 14/100\n",
            "12/12 [==============================] - 0s 17ms/step - loss: 2.6869e-04 - val_loss: 0.0160\n",
            "Epoch 15/100\n",
            "12/12 [==============================] - 0s 17ms/step - loss: 2.4734e-04 - val_loss: 0.0158\n",
            "Epoch 16/100\n",
            "12/12 [==============================] - 0s 17ms/step - loss: 2.4404e-04 - val_loss: 0.0155\n",
            "Epoch 17/100\n",
            "12/12 [==============================] - 0s 17ms/step - loss: 2.4907e-04 - val_loss: 0.0146\n",
            "Epoch 18/100\n",
            "12/12 [==============================] - 0s 17ms/step - loss: 2.2205e-04 - val_loss: 0.0142\n",
            "Epoch 19/100\n",
            "12/12 [==============================] - 0s 18ms/step - loss: 2.2061e-04 - val_loss: 0.0140\n",
            "Epoch 20/100\n",
            "12/12 [==============================] - 0s 19ms/step - loss: 2.1182e-04 - val_loss: 0.0137\n",
            "Epoch 21/100\n",
            "12/12 [==============================] - 0s 17ms/step - loss: 2.4665e-04 - val_loss: 0.0138\n",
            "Epoch 22/100\n",
            "12/12 [==============================] - 0s 17ms/step - loss: 2.1594e-04 - val_loss: 0.0158\n",
            "Epoch 23/100\n",
            "12/12 [==============================] - 0s 18ms/step - loss: 2.0159e-04 - val_loss: 0.0140\n",
            "Epoch 24/100\n",
            "12/12 [==============================] - 0s 17ms/step - loss: 1.9508e-04 - val_loss: 0.0140\n",
            "Epoch 25/100\n",
            "12/12 [==============================] - 0s 21ms/step - loss: 1.9437e-04 - val_loss: 0.0138\n",
            "Epoch 26/100\n",
            "12/12 [==============================] - 0s 20ms/step - loss: 1.9011e-04 - val_loss: 0.0144\n",
            "Epoch 27/100\n",
            "12/12 [==============================] - 0s 19ms/step - loss: 2.0912e-04 - val_loss: 0.0135\n",
            "Epoch 28/100\n",
            "12/12 [==============================] - 0s 17ms/step - loss: 1.8113e-04 - val_loss: 0.0138\n",
            "Epoch 29/100\n",
            "12/12 [==============================] - 0s 18ms/step - loss: 1.8896e-04 - val_loss: 0.0133\n",
            "Epoch 30/100\n",
            "12/12 [==============================] - 0s 17ms/step - loss: 1.8526e-04 - val_loss: 0.0131\n",
            "Epoch 31/100\n",
            "12/12 [==============================] - 0s 17ms/step - loss: 1.8549e-04 - val_loss: 0.0135\n",
            "Epoch 32/100\n",
            "12/12 [==============================] - 0s 17ms/step - loss: 1.7558e-04 - val_loss: 0.0127\n",
            "Epoch 33/100\n",
            "12/12 [==============================] - 0s 19ms/step - loss: 1.7551e-04 - val_loss: 0.0136\n",
            "Epoch 34/100\n",
            "12/12 [==============================] - 0s 19ms/step - loss: 1.7947e-04 - val_loss: 0.0132\n",
            "Epoch 35/100\n",
            "12/12 [==============================] - 0s 18ms/step - loss: 1.7490e-04 - val_loss: 0.0141\n",
            "Epoch 36/100\n",
            "12/12 [==============================] - 0s 18ms/step - loss: 1.7544e-04 - val_loss: 0.0127\n",
            "Epoch 37/100\n",
            "12/12 [==============================] - 0s 17ms/step - loss: 1.8875e-04 - val_loss: 0.0126\n",
            "Epoch 38/100\n",
            "12/12 [==============================] - 0s 17ms/step - loss: 1.7089e-04 - val_loss: 0.0125\n",
            "Epoch 39/100\n",
            "12/12 [==============================] - 0s 17ms/step - loss: 1.7254e-04 - val_loss: 0.0127\n",
            "Epoch 40/100\n",
            "12/12 [==============================] - 0s 17ms/step - loss: 1.6707e-04 - val_loss: 0.0158\n",
            "Epoch 41/100\n",
            "12/12 [==============================] - 0s 18ms/step - loss: 2.0841e-04 - val_loss: 0.0116\n",
            "Epoch 42/100\n",
            "12/12 [==============================] - 0s 18ms/step - loss: 1.9312e-04 - val_loss: 0.0117\n",
            "Epoch 43/100\n",
            "12/12 [==============================] - 0s 17ms/step - loss: 1.8154e-04 - val_loss: 0.0127\n",
            "Epoch 44/100\n",
            "12/12 [==============================] - 0s 17ms/step - loss: 2.0267e-04 - val_loss: 0.0113\n",
            "Epoch 45/100\n",
            "12/12 [==============================] - 0s 17ms/step - loss: 2.1291e-04 - val_loss: 0.0125\n",
            "Epoch 46/100\n",
            "12/12 [==============================] - 0s 17ms/step - loss: 1.7633e-04 - val_loss: 0.0132\n",
            "Epoch 47/100\n",
            "12/12 [==============================] - 0s 21ms/step - loss: 1.7128e-04 - val_loss: 0.0121\n",
            "Epoch 48/100\n",
            "12/12 [==============================] - 0s 21ms/step - loss: 1.5214e-04 - val_loss: 0.0132\n",
            "Epoch 49/100\n",
            "12/12 [==============================] - 0s 19ms/step - loss: 1.5482e-04 - val_loss: 0.0129\n",
            "Epoch 50/100\n",
            "12/12 [==============================] - 0s 18ms/step - loss: 1.4986e-04 - val_loss: 0.0130\n",
            "Epoch 51/100\n",
            "12/12 [==============================] - 0s 17ms/step - loss: 1.8085e-04 - val_loss: 0.0159\n",
            "Epoch 52/100\n",
            "12/12 [==============================] - 0s 17ms/step - loss: 1.6353e-04 - val_loss: 0.0122\n",
            "Epoch 53/100\n",
            "12/12 [==============================] - 0s 17ms/step - loss: 1.4963e-04 - val_loss: 0.0120\n",
            "Epoch 54/100\n",
            "12/12 [==============================] - 0s 18ms/step - loss: 1.6035e-04 - val_loss: 0.0131\n",
            "Epoch 55/100\n",
            "12/12 [==============================] - 0s 20ms/step - loss: 1.4517e-04 - val_loss: 0.0142\n",
            "Epoch 56/100\n",
            "12/12 [==============================] - 0s 21ms/step - loss: 1.5170e-04 - val_loss: 0.0132\n",
            "Epoch 57/100\n",
            "12/12 [==============================] - 0s 20ms/step - loss: 1.5748e-04 - val_loss: 0.0130\n",
            "Epoch 58/100\n",
            "12/12 [==============================] - 0s 17ms/step - loss: 1.4137e-04 - val_loss: 0.0143\n",
            "Epoch 59/100\n",
            "12/12 [==============================] - 0s 18ms/step - loss: 1.4608e-04 - val_loss: 0.0126\n",
            "Epoch 60/100\n",
            "12/12 [==============================] - 0s 17ms/step - loss: 1.4903e-04 - val_loss: 0.0149\n",
            "Epoch 61/100\n",
            "12/12 [==============================] - 0s 17ms/step - loss: 1.3288e-04 - val_loss: 0.0137\n",
            "Epoch 62/100\n",
            "12/12 [==============================] - 0s 17ms/step - loss: 1.4153e-04 - val_loss: 0.0126\n",
            "Epoch 63/100\n",
            "12/12 [==============================] - 0s 17ms/step - loss: 1.3966e-04 - val_loss: 0.0134\n",
            "Epoch 64/100\n",
            "12/12 [==============================] - 0s 17ms/step - loss: 1.4158e-04 - val_loss: 0.0112\n",
            "Epoch 65/100\n",
            "12/12 [==============================] - 0s 18ms/step - loss: 1.3012e-04 - val_loss: 0.0126\n",
            "Epoch 66/100\n",
            "12/12 [==============================] - 0s 17ms/step - loss: 1.4072e-04 - val_loss: 0.0122\n",
            "Epoch 67/100\n",
            "12/12 [==============================] - 0s 17ms/step - loss: 1.3316e-04 - val_loss: 0.0121\n",
            "Epoch 68/100\n",
            "12/12 [==============================] - 0s 17ms/step - loss: 1.2215e-04 - val_loss: 0.0121\n",
            "Epoch 69/100\n",
            "12/12 [==============================] - 0s 19ms/step - loss: 1.2588e-04 - val_loss: 0.0130\n",
            "Epoch 70/100\n",
            "12/12 [==============================] - 0s 17ms/step - loss: 1.2978e-04 - val_loss: 0.0106\n",
            "Epoch 71/100\n",
            "12/12 [==============================] - 0s 16ms/step - loss: 1.4382e-04 - val_loss: 0.0124\n",
            "Epoch 72/100\n",
            "12/12 [==============================] - 0s 18ms/step - loss: 1.2618e-04 - val_loss: 0.0141\n",
            "Epoch 73/100\n",
            "12/12 [==============================] - 0s 17ms/step - loss: 1.3014e-04 - val_loss: 0.0115\n",
            "Epoch 74/100\n",
            "12/12 [==============================] - 0s 19ms/step - loss: 1.2011e-04 - val_loss: 0.0096\n",
            "Epoch 75/100\n",
            "12/12 [==============================] - 0s 19ms/step - loss: 1.2288e-04 - val_loss: 0.0100\n",
            "Epoch 76/100\n",
            "12/12 [==============================] - 0s 19ms/step - loss: 1.2151e-04 - val_loss: 0.0124\n",
            "Epoch 77/100\n",
            "12/12 [==============================] - 0s 21ms/step - loss: 1.1374e-04 - val_loss: 0.0089\n",
            "Epoch 78/100\n",
            "12/12 [==============================] - 0s 21ms/step - loss: 1.1790e-04 - val_loss: 0.0093\n",
            "Epoch 79/100\n",
            "12/12 [==============================] - 0s 17ms/step - loss: 1.1954e-04 - val_loss: 0.0115\n",
            "Epoch 80/100\n",
            "12/12 [==============================] - 0s 16ms/step - loss: 1.1146e-04 - val_loss: 0.0108\n",
            "Epoch 81/100\n",
            "12/12 [==============================] - 0s 17ms/step - loss: 1.2552e-04 - val_loss: 0.0081\n",
            "Epoch 82/100\n",
            "12/12 [==============================] - 0s 18ms/step - loss: 1.2487e-04 - val_loss: 0.0095\n",
            "Epoch 83/100\n",
            "12/12 [==============================] - 0s 17ms/step - loss: 1.0323e-04 - val_loss: 0.0099\n",
            "Epoch 84/100\n",
            "12/12 [==============================] - 0s 20ms/step - loss: 1.0154e-04 - val_loss: 0.0086\n",
            "Epoch 85/100\n",
            "12/12 [==============================] - 0s 17ms/step - loss: 1.1953e-04 - val_loss: 0.0094\n",
            "Epoch 86/100\n",
            "12/12 [==============================] - 0s 17ms/step - loss: 1.1018e-04 - val_loss: 0.0097\n",
            "Epoch 87/100\n",
            "12/12 [==============================] - 0s 18ms/step - loss: 9.9905e-05 - val_loss: 0.0133\n",
            "Epoch 88/100\n",
            "12/12 [==============================] - 0s 17ms/step - loss: 1.0395e-04 - val_loss: 0.0113\n",
            "Epoch 89/100\n",
            "12/12 [==============================] - 0s 16ms/step - loss: 1.0126e-04 - val_loss: 0.0109\n",
            "Epoch 90/100\n",
            "12/12 [==============================] - 0s 18ms/step - loss: 9.9756e-05 - val_loss: 0.0117\n",
            "Epoch 91/100\n",
            "12/12 [==============================] - 0s 18ms/step - loss: 1.0522e-04 - val_loss: 0.0083\n",
            "Epoch 92/100\n",
            "12/12 [==============================] - 0s 17ms/step - loss: 1.0859e-04 - val_loss: 0.0083\n",
            "Epoch 93/100\n",
            "12/12 [==============================] - 0s 17ms/step - loss: 1.0870e-04 - val_loss: 0.0090\n",
            "Epoch 94/100\n",
            "12/12 [==============================] - 0s 17ms/step - loss: 9.6880e-05 - val_loss: 0.0079\n",
            "Epoch 95/100\n",
            "12/12 [==============================] - 0s 17ms/step - loss: 9.3664e-05 - val_loss: 0.0080\n",
            "Epoch 96/100\n",
            "12/12 [==============================] - 0s 18ms/step - loss: 8.9385e-05 - val_loss: 0.0065\n",
            "Epoch 97/100\n",
            "12/12 [==============================] - 0s 17ms/step - loss: 8.8780e-05 - val_loss: 0.0072\n",
            "Epoch 98/100\n",
            "12/12 [==============================] - 0s 17ms/step - loss: 8.9593e-05 - val_loss: 0.0073\n",
            "Epoch 99/100\n",
            "12/12 [==============================] - 0s 17ms/step - loss: 9.4599e-05 - val_loss: 0.0084\n",
            "Epoch 100/100\n",
            "12/12 [==============================] - 0s 18ms/step - loss: 8.5928e-05 - val_loss: 0.0079\n"
          ],
          "name": "stdout"
        },
        {
          "output_type": "execute_result",
          "data": {
            "text/plain": [
              "<tensorflow.python.keras.callbacks.History at 0x7f23f106ab00>"
            ]
          },
          "metadata": {
            "tags": []
          },
          "execution_count": 62
        }
      ]
    },
    {
      "cell_type": "code",
      "metadata": {
        "id": "H3cNIqxz-Ndm"
      },
      "source": [
        "#let do the predictions and check the performance metrics\n",
        "train_pred = model.predict(x_train)\n",
        "test_pred = model.predict(x_test)"
      ],
      "execution_count": null,
      "outputs": []
    },
    {
      "cell_type": "code",
      "metadata": {
        "id": "fywTNmt5AGMr"
      },
      "source": [
        "## transform to original form \n",
        "train_pred = scaler.inverse_transform(train_pred)\n",
        "test_pred = scaler.inverse_transform(test_pred)"
      ],
      "execution_count": null,
      "outputs": []
    },
    {
      "cell_type": "code",
      "metadata": {
        "id": "cKppeN-BAVCY",
        "colab": {
          "base_uri": "https://localhost:8080/",
          "height": 35
        },
        "outputId": "83aae93e-13bf-44ad-9dca-49f4d7482047"
      },
      "source": [
        "import math\n",
        "from sklearn.metrics import mean_squared_error\n",
        "math.sqrt(mean_squared_error(y_train, train_pred))"
      ],
      "execution_count": null,
      "outputs": [
        {
          "output_type": "execute_result",
          "data": {
            "text/plain": [
              "154.51574714636786"
            ]
          },
          "metadata": {
            "tags": []
          },
          "execution_count": 65
        }
      ]
    },
    {
      "cell_type": "code",
      "metadata": {
        "id": "XVyOJDOcAiQz",
        "colab": {
          "base_uri": "https://localhost:8080/",
          "height": 35
        },
        "outputId": "ba179951-20dd-414e-e3ee-ed5fb7327c0f"
      },
      "source": [
        "##test data RMSE\n",
        "math.sqrt(mean_squared_error(y_test, test_pred))"
      ],
      "execution_count": null,
      "outputs": [
        {
          "output_type": "execute_result",
          "data": {
            "text/plain": [
              "263.07908062156696"
            ]
          },
          "metadata": {
            "tags": []
          },
          "execution_count": 66
        }
      ]
    },
    {
      "cell_type": "code",
      "metadata": {
        "id": "FdKi3112Ar2C",
        "colab": {
          "base_uri": "https://localhost:8080/",
          "height": 265
        },
        "outputId": "da544d11-0f98-4985-ffe7-9a8794e9e354"
      },
      "source": [
        "### plotting\n",
        "\n",
        "import numpy as np\n",
        "look_back = 100\n",
        "trainp_plot = np.empty_like(df1)\n",
        "trainp_plot[:,:] = np.nan\n",
        "trainp_plot[look_back:len(train_pred)+look_back,:] = train_pred\n",
        "\n",
        "testp_plot = np.empty_like(df1)\n",
        "testp_plot[:,:]=np.nan \n",
        "testp_plot[len(train_pred)+(look_back*2)+1:len(df1)-1,:] = test_pred\n",
        "\n",
        "plt.plot(scaler.inverse_transform(df1))\n",
        "plt.plot(trainp_plot)\n",
        "plt.plot(testp_plot)\n",
        "plt.show()"
      ],
      "execution_count": null,
      "outputs": [
        {
          "output_type": "display_data",
          "data": {
            "image/png": "[encoded data removed]",
            "text/plain": [
              "<Figure size 432x288 with 1 Axes>"
            ]
          },
          "metadata": {
            "tags": [],
            "needs_background": "light"
          }
        }
      ]
    }
  ]
}